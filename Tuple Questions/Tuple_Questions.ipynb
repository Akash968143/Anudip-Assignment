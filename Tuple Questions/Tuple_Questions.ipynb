{
  "nbformat": 4,
  "nbformat_minor": 0,
  "metadata": {
    "colab": {
      "provenance": []
    },
    "kernelspec": {
      "name": "python3",
      "display_name": "Python 3"
    },
    "language_info": {
      "name": "python"
    }
  },
  "cells": [
    {
      "cell_type": "markdown",
      "source": [
        "Question no 1: Given a tuple my_tuple = (10, 20, 30, 40, 50), how can you access the element 30 from the tuple using positive indexing? Write a Python program to achieve this."
      ],
      "metadata": {
        "id": "P_xB1JjNdgFG"
      }
    },
    {
      "cell_type": "code",
      "source": [
        "my_tuple = (10, 20, 30, 40, 50)\n",
        "my_tuple[2]"
      ],
      "metadata": {
        "colab": {
          "base_uri": "https://localhost:8080/"
        },
        "id": "gxaYqJm1dhDa",
        "outputId": "77974a5d-2b56-4863-9ef5-93a4085e6c10"
      },
      "execution_count": 1,
      "outputs": [
        {
          "output_type": "execute_result",
          "data": {
            "text/plain": [
              "30"
            ]
          },
          "metadata": {},
          "execution_count": 1
        }
      ]
    },
    {
      "cell_type": "markdown",
      "source": [
        "Question no 2: Suppose you have a tuple my_tuple = (15, 25, 35, 45, 55), how can you access the element 45 from the tuple using negative indexing? Write a Python program to achieve this."
      ],
      "metadata": {
        "id": "Si1snLqxdrbf"
      }
    },
    {
      "cell_type": "code",
      "source": [
        " my_tuple = (15, 25, 35, 45, 55)\n",
        " my_tuple[-2]"
      ],
      "metadata": {
        "colab": {
          "base_uri": "https://localhost:8080/"
        },
        "id": "k6Et7E77dusu",
        "outputId": "80569171-af9f-4242-c5d1-522be156e92c"
      },
      "execution_count": 2,
      "outputs": [
        {
          "output_type": "execute_result",
          "data": {
            "text/plain": [
              "45"
            ]
          },
          "metadata": {},
          "execution_count": 2
        }
      ]
    },
    {
      "cell_type": "markdown",
      "source": [
        "Question no 3: Given a tuple my_tuple = (1, 2, 3, (4, 5, 6)), how can you access the element 5 from the nested tuple within it using nested indexing? Write a Python program to achieve this."
      ],
      "metadata": {
        "id": "Xf_WPltUdxit"
      }
    },
    {
      "cell_type": "code",
      "source": [
        "my_tuple = (1, 2, 3, (4, 5, 6))\n",
        "my_tuple[3][1]"
      ],
      "metadata": {
        "colab": {
          "base_uri": "https://localhost:8080/"
        },
        "id": "hm6Dr4wWd0rZ",
        "outputId": "13e1af8a-4e0f-462b-f947-41d0b4499ba3"
      },
      "execution_count": 3,
      "outputs": [
        {
          "output_type": "execute_result",
          "data": {
            "text/plain": [
              "5"
            ]
          },
          "metadata": {},
          "execution_count": 3
        }
      ]
    },
    {
      "cell_type": "markdown",
      "source": [
        "Question no 4: Suppose you have a tuple my_tuple = (10, 20, 30, 40, 50), how can you slice the tuple to obtain (20, 30, 40)? Write a Python program to achieve this."
      ],
      "metadata": {
        "id": "VBDklBOKeBwK"
      }
    },
    {
      "cell_type": "code",
      "source": [
        "my_tuple = (10, 20, 30, 40, 50)\n",
        "my_tuple[1:4]"
      ],
      "metadata": {
        "colab": {
          "base_uri": "https://localhost:8080/"
        },
        "id": "L_omHqkBeFMi",
        "outputId": "39bfd73a-3bfa-4d79-d157-c7448b77ebe0"
      },
      "execution_count": 4,
      "outputs": [
        {
          "output_type": "execute_result",
          "data": {
            "text/plain": [
              "(20, 30, 40)"
            ]
          },
          "metadata": {},
          "execution_count": 4
        }
      ]
    },
    {
      "cell_type": "markdown",
      "source": [
        "Question no 5: Given a tuple my_tuple = (1, 2, 3, 4, 5), how can you access the last element without knowing its index? Write a Python program to achieve this."
      ],
      "metadata": {
        "id": "-sVBhKDqeKzx"
      }
    },
    {
      "cell_type": "code",
      "source": [
        "my_tuple = (1, 2, 3, 4, 5)\n",
        "my_tuple[-1]"
      ],
      "metadata": {
        "colab": {
          "base_uri": "https://localhost:8080/"
        },
        "id": "SIbrpjKdePSv",
        "outputId": "a8cffe40-03c2-426a-941b-23d86751e729"
      },
      "execution_count": 5,
      "outputs": [
        {
          "output_type": "execute_result",
          "data": {
            "text/plain": [
              "5"
            ]
          },
          "metadata": {},
          "execution_count": 5
        }
      ]
    },
    {
      "cell_type": "markdown",
      "source": [
        "Question no 6: Suppose you have two tuples tuple1 = (10, 20, 30) and tuple2 = (40, 50, 60), how can you concatenate them into a single tuple? Write a Python program to achieve this."
      ],
      "metadata": {
        "id": "qJ-6QHMfeT73"
      }
    },
    {
      "cell_type": "code",
      "source": [
        "tuple1 = (10, 20, 30)\n",
        "tuple2 = (40, 50, 60)\n",
        "tuple= tuple1+tuple2\n",
        "print(tuple)"
      ],
      "metadata": {
        "colab": {
          "base_uri": "https://localhost:8080/"
        },
        "id": "2H0X6FAreXLw",
        "outputId": "58cc097e-d5c1-4695-869a-4c5dc69b949e"
      },
      "execution_count": 6,
      "outputs": [
        {
          "output_type": "stream",
          "name": "stdout",
          "text": [
            "(10, 20, 30, 40, 50, 60)\n"
          ]
        }
      ]
    },
    {
      "cell_type": "markdown",
      "source": [
        "Question no 7: Given a tuple my_tuple = ('a', 'b', 'c', 'd', 'e'), how can you check if the element 'c' exists in the tuple? Write a Python program to achieve this."
      ],
      "metadata": {
        "id": "zZKbPb91ecE4"
      }
    },
    {
      "cell_type": "code",
      "source": [
        "my_tuple = ('a', 'b', 'c', 'd', 'e')\n",
        "if 'c' in my_tuple:\n",
        "  print(\"'c' exist\")\n",
        "else:\n",
        "  print(\"'c' does not exist\")"
      ],
      "metadata": {
        "colab": {
          "base_uri": "https://localhost:8080/"
        },
        "id": "Mr-iKsQWefgP",
        "outputId": "9015ac75-24d5-4592-aa9b-6733bc07148e"
      },
      "execution_count": 7,
      "outputs": [
        {
          "output_type": "stream",
          "name": "stdout",
          "text": [
            "'c' exist\n"
          ]
        }
      ]
    },
    {
      "cell_type": "markdown",
      "source": [
        "Question no 8: Suppose you have a tuple my_tuple = ('apple', 'banana', 'cherry', 'apple'), how can you count the number of occurrences of 'apple' in the tuple? Write a Python program to achieve this."
      ],
      "metadata": {
        "id": "odFqR1fGejAW"
      }
    },
    {
      "cell_type": "code",
      "source": [
        "my_tuple = ('apple', 'banana', 'cherry', 'apple')\n",
        "my_tuple.count('apple')\n"
      ],
      "metadata": {
        "colab": {
          "base_uri": "https://localhost:8080/"
        },
        "id": "3-mW6FDUew_C",
        "outputId": "7e529179-39db-4e08-8f11-863bd64dfe40"
      },
      "execution_count": 8,
      "outputs": [
        {
          "output_type": "execute_result",
          "data": {
            "text/plain": [
              "2"
            ]
          },
          "metadata": {},
          "execution_count": 8
        }
      ]
    },
    {
      "cell_type": "markdown",
      "source": [
        "Question no 9: Given a tuple my_tuple = (3.14, 'hello', True, (1, 2, 3)), how can you access the nested tuple (1, 2, 3) from it? Write a Python program to achieve this."
      ],
      "metadata": {
        "id": "itNSr-x1e4yO"
      }
    },
    {
      "cell_type": "code",
      "source": [
        "my_tuple = (3.14, 'hello', True, (1, 2, 3))\n",
        "my_tuple[3]"
      ],
      "metadata": {
        "colab": {
          "base_uri": "https://localhost:8080/"
        },
        "id": "GVLfOpK1e784",
        "outputId": "d4d8453a-04c4-44c0-93a0-26a006ce67a2"
      },
      "execution_count": 9,
      "outputs": [
        {
          "output_type": "execute_result",
          "data": {
            "text/plain": [
              "(1, 2, 3)"
            ]
          },
          "metadata": {},
          "execution_count": 9
        }
      ]
    },
    {
      "cell_type": "markdown",
      "source": [
        "Question no 10: Suppose you have a tuple my_tuple = (10, 20, 30), how can you convert it into a list? Write a Python program to achieve this"
      ],
      "metadata": {
        "id": "YBd1S6_pe_m6"
      }
    },
    {
      "cell_type": "code",
      "source": [
        "my_tuple = (10, 20, 30)\n",
        "my_list=list(my_tuple)\n",
        "print(my_list)"
      ],
      "metadata": {
        "colab": {
          "base_uri": "https://localhost:8080/"
        },
        "id": "46r1mrZSfGQP",
        "outputId": "45ed3d1e-e55a-44fa-fef9-01725d614693"
      },
      "execution_count": 10,
      "outputs": [
        {
          "output_type": "stream",
          "name": "stdout",
          "text": [
            "[10, 20, 30]\n"
          ]
        }
      ]
    },
    {
      "cell_type": "markdown",
      "source": [
        "Question no 12: Suppose you have a tuple my_tuple = (10, 20, 30, 40, 50), how can you find the smallest and largest elements in the tuple? Write a Python program to achieve this.\n",
        "\n"
      ],
      "metadata": {
        "id": "A_K6NQIwfJ1q"
      }
    },
    {
      "cell_type": "code",
      "source": [
        "my_tuple = (10, 20, 30, 40, 50)\n",
        "a=min(my_tuple)\n",
        "print(a,\"is smallest element in the tuple.\")\n",
        "b=max(my_tuple)\n",
        "print(b,\"is largest element in the tuple.\")\n"
      ],
      "metadata": {
        "colab": {
          "base_uri": "https://localhost:8080/"
        },
        "id": "VKYpQ1X_fMlj",
        "outputId": "8465e642-e5d8-4a76-c3a2-f909886bb488"
      },
      "execution_count": 11,
      "outputs": [
        {
          "output_type": "stream",
          "name": "stdout",
          "text": [
            "10 is smallest element in the tuple.\n",
            "50 is largest element in the tuple.\n"
          ]
        }
      ]
    },
    {
      "cell_type": "markdown",
      "source": [
        "Question no 15: Given two tuples tuple1 = (1, 2, 3) and tuple2 = (4, 5, 6), how can you check if the two tuples are equal? Write a Python program to achieve this.\n",
        "\n"
      ],
      "metadata": {
        "id": "Eg16kCZufhq5"
      }
    },
    {
      "cell_type": "code",
      "source": [
        "tuple1 = (1, 2, 3)\n",
        "tuple2 = (4, 5, 6)\n",
        "if tuple1==tuple2:\n",
        "  print(\"tuples are equal\")\n",
        "else:\n",
        "  print(\"tuples are not equal\")"
      ],
      "metadata": {
        "colab": {
          "base_uri": "https://localhost:8080/"
        },
        "id": "V2vzjXYHflUM",
        "outputId": "fd3a9424-cbe7-4998-ac2f-194ecab38926"
      },
      "execution_count": 12,
      "outputs": [
        {
          "output_type": "stream",
          "name": "stdout",
          "text": [
            "tuples are not equal\n"
          ]
        }
      ]
    }
  ]
}